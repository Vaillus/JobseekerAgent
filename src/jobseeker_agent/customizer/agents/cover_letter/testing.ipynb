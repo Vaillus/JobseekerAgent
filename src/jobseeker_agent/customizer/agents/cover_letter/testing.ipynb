{
 "cells": [
  {
   "cell_type": "code",
   "execution_count": 2,
   "id": "35f58c61",
   "metadata": {},
   "outputs": [],
   "source": [
    "from jobseeker_agent.utils.paths import load_raw_job, load_prompt, load_review, get_data_path\n",
    "from jobseeker_agent.scraper.extract_job_details import extract_job_details\n",
    "\n",
    "job_id = 18\n",
    "job = load_raw_job(job_id)\n",
    "job_url = job[\"job_link\"]\n",
    "job_details = extract_job_details(job_url)\n",
    "description = job_details[\"description\"]\n",
    "# description\n",
    "\n",
    "# load profile\n",
    "profile = load_prompt(\"profil_pro\")\n",
    "\n",
    "# synthesis and decision\n",
    "review = load_review(job_id)\n",
    "synthesis = review[\"synthesis_and_decision\"]\n",
    "\n",
    "resume_path = get_data_path() / \"resume\" / \"18\" / \"resume.tex\"\n",
    "with open(resume_path, \"r\") as f:\n",
    "    resume = f.read()\n",
    "\n",
    "# cover letter template\n",
    "cover_letter_path = get_data_path() / \"resume\" / \"template\" / \"cover-letter-en.tex\"\n",
    "with open(cover_letter_path, \"r\") as f:\n",
    "    cover_letter_template = f.read()"
   ]
  },
  {
   "cell_type": "code",
   "execution_count": 92,
   "id": "dab79837",
   "metadata": {},
   "outputs": [],
   "source": [
    "# Les prompts\n",
    "system_prompt = r\"\"\"\n",
    "You are a cover letter expert.\n",
    "# Input data\n",
    "## Job description\n",
    "{job_description}\n",
    "## Candidate profile\n",
    "{profil_pro}\n",
    "## Synthesis and decision\n",
    "{synthesis_and_decision}\n",
    "## Candidate resume\n",
    "{resume}\n",
    "\"\"\"\n",
    "\n",
    "first_draft_prompt = r\"\"\"\n",
    "## Cover letter template\n",
    "{cover_letter_template}\n",
    "\n",
    "# Task\n",
    "Write a cover letter for the job by modifying the LaTeX template provided.\n",
    "You MUST return the COMPLETE LaTeX file with all its structure (\\documentclass, \\usepackage, \\begin{{document}}, etc.).\n",
    "\n",
    "Instructions:\n",
    "1. Replace the \\companyname and \\jobtitle commands with the actual company name and job title from the job description.\n",
    "3. Modify ONLY the content between the comments:\n",
    "   - For the first part (between \"% first part starts here\" and \"% first part ends here\"): Identify the company's mission and how it corresponds to the candidate's profile.\n",
    "   - For the second part (between \"% second part starts here\" and \"% second part ends here\"): Highlight 2 or 3 **experiences or key skills** (hard and soft skills) that correspond to the requirements of the offer. **Illustrate** always with concrete examples or quantified results. Mention them in the same order as in the resume.\n",
    "   - For the third part (between \"% third part starts here\" and \"% third part ends here\"): Write a wrap-up that summarizes what has been said by putting a term on my profile (e.g., \"versatile problem solver\"), and that reminds that I am fully aligned with their mission.\n",
    "4. Keep everything else from the template unchanged (opening, closing, signature block, etc.).\n",
    "\n",
    "Do not lie about the candidate's skills and expertise.\n",
    "\n",
    "The cover letter should ideally be between 250 and 35à words long.\n",
    "Do not mention languages spoken by the candidate.\n",
    "\n",
    "Instead of general affirmations, explicitly link the candidate's specific past achievements, skills, or projects (mentioned later in the prompt) to the specific requirements or mission of the role and the company. The connection must be shown, not merely stated.\n",
    "Bad examples: \n",
    "- \"My experience directly addresses the core responsibilities of this role.\"\n",
    "- \"My experience is a strong fit for the Machine Learning Engineer role.\"\n",
    "\n",
    "Return as plain text, no LaTeX code.\n",
    "\"\"\"\n",
    "\n",
    "\n",
    "# ## First draft of the cover letter\n",
    "# {first_draft}\n",
    "critic_prompt = r\"\"\"\n",
    "# Task\n",
    "Critic the cover letter.\n",
    "Return a list of suggestions to improve the cover letter.\n",
    "Return the suggestions in the following format:\n",
    "- [suggestion 1]\n",
    "- [suggestion 2]\n",
    "- [suggestion 3]\n",
    "\n",
    "Particular areas of interest:\n",
    "- did the first draft lie about the candidate's skills and expertise ?\n",
    "- is all information from the draft relevant to the job offer ?\n",
    "- are experiences mentioned in decreasing order of relevance to the job offer ?\n",
    "- In the first paragraph, is the link between the company's mission and the candidate's profile clear ?\n",
    "\"\"\"\n",
    "\n",
    "# ## Cover letter template\n",
    "# {cover_letter_template}\n",
    "# ## First draft of the cover letter\n",
    "# {first_draft}\n",
    "# ## Critic\n",
    "# {critic}\n",
    "corrector_prompt = r\"\"\"\n",
    "# Task\n",
    "Correct the cover letter based on the critic.\n",
    "Return the corrected cover letter.\n",
    "Return as plain text, no LaTeX code.\n",
    "Previous drafw was {wordcount} words long.\n",
    "\"\"\"\n",
    "\n",
    "# ## Cover letter template\n",
    "# {cover_letter_template}\n",
    "# ## First draft of the cover letter\n",
    "# {first_draft}\n",
    "# ## Critic\n",
    "# {critic}\n",
    "# ## Second draft\n",
    "# {cover_letter}\n",
    "compressor_prompt = r\"\"\"\n",
    "# Task\n",
    "{wordcount_sentence}\n",
    "Adjust the length of the cover letter to be between 250 and 350 words.\n",
    "Return the compressed cover letter.\n",
    "You may shorten in particular the first paragraph if it is too long.\n",
    "Or simply remove an experience that is not that relevant for the job offer.\n",
    "Forget about the LaTeX Formatting. It should be easy to read in a terminal. Output the content of the cover letter only, no LaTeX code.\n",
    "\"\"\"\n"
   ]
  },
  {
   "cell_type": "code",
   "execution_count": 93,
   "id": "fc9a0c52",
   "metadata": {},
   "outputs": [],
   "source": [
    "def write_cover_letter(job_description: str, profil_pro: str, synthesis_and_decision: str, resume: str, cover_letter_template: str, model: str = \"gpt-5\", status_callback=None) -> str:\n",
    "    \"\"\"Generate the first draft of the cover letter.\"\"\"\n",
    "    print(\"    [STAGE 1] Generating draft...\")\n",
    "    llm = get_llm(model)\n",
    "    system_message = SystemMessage(content=system_prompt.format(\n",
    "        job_description=job_description,\n",
    "        profil_pro=profil_pro,\n",
    "        synthesis_and_decision=synthesis_and_decision,\n",
    "        resume=resume\n",
    "    ))\n",
    "    message = HumanMessage(content=first_draft_prompt.format(\n",
    "        cover_letter_template=cover_letter_template\n",
    "    )) \n",
    "    messages = [system_message, message]\n",
    "    first_draft = llm.invoke(messages)\n",
    "    messages.append(first_draft)\n",
    "    print(f\"    [STAGE 2] Critic...\")\n",
    "    if status_callback:\n",
    "        status_callback(\"Stage 2/3: Critic...\")\n",
    "    message = HumanMessage(content=critic_prompt)\n",
    "    messages.append(message)\n",
    "    response = llm.invoke(messages)\n",
    "    print(response.content)\n",
    "    messages.append(response)\n",
    "    print(f\"    [STAGE 3] Corrector...\")\n",
    "    if status_callback:\n",
    "        status_callback(\"Stage 3/3: Corrector...\")\n",
    "    message = HumanMessage(content=corrector_prompt.format(\n",
    "        wordcount=len(first_draft.content.split())\n",
    "    ))\n",
    "    messages.append(message)\n",
    "    revised_draft = llm.invoke(messages)\n",
    "    messages.append(revised_draft)\n",
    "    print(len(revised_draft.content.split()))\n",
    "    if not(250 <= len(revised_draft.content.split()) <= 350):\n",
    "        wordcount = len(revised_draft.content.split())\n",
    "        if wordcount > 350:\n",
    "            sentence = f\"The letter should be between 300 and 400 words long. It is currently {wordcount} words long. It should be {int((wordcount - 300)/wordcount*100)}% shorter.\"\n",
    "        else:\n",
    "            sentence = f\"The letter should be between 300 and 400 words long. It is currently {wordcount} words long. It should be {int((300 - wordcount)/wordcount*100)}% longer.\"\n",
    "        print(f\"    [STAGE 4] Compressor...\")\n",
    "        if status_callback:\n",
    "            status_callback(\"Stage 4/4: Compressor...\")\n",
    "        \n",
    "        message = HumanMessage(content=compressor_prompt.format(\n",
    "            wordcount_sentence=sentence\n",
    "        ))\n",
    "        messages.append(message)\n",
    "        revised_draft = llm.invoke(messages)\n",
    "        messages.append(revised_draft)\n",
    "    \n",
    "    print(f\"last draft wordcount: {len(revised_draft.content.split())}\")\n",
    "    return revised_draft.content"
   ]
  },
  {
   "cell_type": "code",
   "execution_count": 89,
   "id": "583601b3",
   "metadata": {},
   "outputs": [
    {
     "name": "stdout",
     "output_type": "stream",
     "text": [
      "    [STAGE 1] Generating draft...\n",
      "✅ Chargement du modèle Gemini : gemini-2.5-flash\n"
     ]
    },
    {
     "name": "stderr",
     "output_type": "stream",
     "text": [
      "E0000 00:00:1761567081.650205 7626704 alts_credentials.cc:93] ALTS creds ignored. Not running on GCP and untrusted ALTS is not enabled.\n"
     ]
    },
    {
     "name": "stdout",
     "output_type": "stream",
     "text": [
      "    [STAGE 2] Critic...\n",
      "Here are some suggestions to improve the cover letter:\n",
      "\n",
      "-   **Strengthen the \"production experience\" aspect:** While the letter mentions \"design to implementation,\" the job explicitly asks for \"hands-on production experience.\" For the IBM project, if the PoC involved any deployment or integration steps, even if not full-scale production, it would be beneficial to highlight that. For the PhD and personal projects, emphasize the *readiness* and *capability* to deploy and maintain in production, given the end-to-end ownership.\n",
      "-   **Acknowledge \"Modern Data Stack\" interest/knowledge:** The job description mentions \"general knowledge of the 'modern data stack' ecosystem, especially data warehouses and databases.\" The candidate's profile notes an eagerness to learn this. A brief sentence expressing enthusiasm to learn or apply existing knowledge of data warehouses (even if theoretical) would be valuable.\n",
      "-   **Refine the phrasing about AI generation:** The sentence \"I should mention that this letter and the resume were fully generated by AI agents\" is a powerful demonstration but could be phrased more professionally. Consider something like: \"This hands-on experience in building a complete agent—from design to implementation—is exemplified by its application in generating this very letter and my resume, directly aligning with the core responsibilities of the role.\" This integrates it more smoothly into the project description.\n",
      "-   **Emphasize \"research-driven\" in the wrap-up:** The candidate's profile strongly highlights a \"research engineer\" background (Ph.D., Ingénieur de Recherche en IA). The current wrap-up uses \"versatile problem-solver.\" Adding \"research-driven ML engineer\" or similar would better reflect the candidate's unique profile and align with the PhD.\n",
      "-   **Consider adding a soft skill related to teamwork/culture:** The job description mentions \"Our culture emphasises teamwork to efficiently deliver projects to production.\" While the letter focuses on technical skills, a brief mention of valuing collaboration or contributing to a team environment could be a subtle but effective addition.\n",
      "\n",
      "Regarding the specific areas of interest:\n",
      "-   **Did the first draft lie about the candidate's skills and expertise?** No, the first draft did not lie. All claims made in the cover letter are directly supported by the detailed candidate profile provided.\n",
      "-   **Is all information from the draft relevant to the job offer?** Yes, all information presented (IBM project, Agentic Workflow project, PhD research) is highly relevant to the job offer, addressing core ML tasks, generative AI, and general research engineering capabilities.\n",
      "-   **Are experiences mentioned in decreasing order of relevance to the job offer?** Yes, the order (IBM for time series/anomaly detection, Agentic Workflow for generative AI, PhD for general ML engineering rigor and ownership) is logical and prioritizes the most directly applicable experiences first.\n",
      "-   **In the first paragraph, is the link between the company's mission and the candidate's profile clear?** Yes, the link is clear and well-articulated. It effectively connects Sifflet's ML-driven data observability mission with the candidate's specialization in autonomous decision-making systems and advanced algorithms.\n",
      "    [STAGE 3] Corrector...\n",
      "483\n",
      "    [STAGE 4] Compressor...\n",
      "last draft wordcount: 329\n",
      "Dear Sifflet Hiring Team,\n",
      "\n",
      "I am writing to express my enthusiastic interest in the Machine Learning Engineer position at Sifflet. Your mission to build the world's best data observability platform, leveraging ML to detect and resolve data quality issues, perfectly aligns with my expertise in designing autonomous decision-making systems. I am eager to contribute to a team focused on efficient project delivery within the modern data stack.\n",
      "\n",
      "My experience directly aligns with Sifflet's technical challenges. As a Junior Data Science Consultant at IBM, I developed a predictive maintenance tool, implementing time series forecasting and anomaly detection models. This hands-on experience in building and deploying recurrent deep learning models and data pipelines is directly applicable to your needs for detecting data quality issues and deploying time series forecasting models.\n",
      "\n",
      "Furthermore, my current personal project involves building an autonomous agentic workflow using LLMs and LangChain to automate the job application process. This practical experience in designing and orchestrating generative AI solutions, demonstrated by its application in generating this letter and my resume, directly addresses your goal of implementing generative AI workflows across the product.\n",
      "\n",
      "My Ph.D. research at Thales honed my ability to design, implement, and validate complex algorithmic solutions end-to-end. I developed stochastic optimization algorithms for radar systems, achieving a 33\\% performance improvement. This rigorous approach, combined with my proficiency in the Python ML ecosystem (PyTorch), ensures I can take full ownership of projects from design to production and quickly adapt to new data technologies.\n",
      "\n",
      "My profile as a research-driven ML engineer, combining a deep theoretical background in optimization and autonomous systems with hands-on experience in time series forecasting, anomaly detection, and modern generative AI frameworks, makes me a strong candidate. I am a versatile problem-solver, eager to develop innovative ML/AI features that will contribute to Sifflet's mission.\n",
      "\n",
      "Thank you for your time and consideration. My CV is attached for your review, and I look forward to the opportunity to discuss my application with you further.\n",
      "\n",
      "Best regards,\n",
      "Hugo Vaillaud\n"
     ]
    }
   ],
   "source": [
    "model = \"gemini-2.5-flash\"\n",
    "result = write_cover_letter(description, profile, synthesis, resume, cover_letter_template, model)\n",
    "print(result)"
   ]
  },
  {
   "cell_type": "code",
   "execution_count": 71,
   "id": "43a0cd82",
   "metadata": {},
   "outputs": [
    {
     "data": {
      "text/plain": [
       "True"
      ]
     },
     "execution_count": 71,
     "metadata": {},
     "output_type": "execute_result"
    }
   ],
   "source": [
    "not(250 <= len(result.split()) <= 350)"
   ]
  },
  {
   "cell_type": "code",
   "execution_count": 94,
   "id": "b3f6d028",
   "metadata": {},
   "outputs": [
    {
     "name": "stdout",
     "output_type": "stream",
     "text": [
      "    [STAGE 1] Generating draft...\n",
      "✅ Chargement du modèle Gemini : gemini-2.5-pro\n"
     ]
    },
    {
     "name": "stderr",
     "output_type": "stream",
     "text": [
      "E0000 00:00:1761567702.738952 7626704 alts_credentials.cc:93] ALTS creds ignored. Not running on GCP and untrusted ALTS is not enabled.\n"
     ]
    },
    {
     "name": "stdout",
     "output_type": "stream",
     "text": [
      "    [STAGE 2] Critic...\n",
      "Here is a critique of the cover letter with suggestions for improvement:\n",
      "\n",
      "- **Reorder the experiences in the second paragraph for maximum impact.** The job description's primary focus for the monitoring team is \"time series forecasting models.\" Your experience at IBM is the most direct and powerful match for this core responsibility. Starting with the IBM project would immediately establish your relevance, followed by the agentic workflow project (which aligns with their newer generative AI goals), and finally the Ph.D. to demonstrate ownership and rigor.\n",
      "\n",
      "- **Strengthen the connection in the first paragraph.** The current link is good but slightly generic. You can make it more specific by connecting your background in \"autonomous decision-making systems\" to their mission of \"data observability.\" For example, you could state that your experience in building systems that *act* on complex data gives you a unique perspective on how to build systems that effectively *monitor* and find the root cause of issues in that same data.\n",
      "\n",
      "- **Clarify the scope of the agentic workflow project.** The letter mentions building an agentic workflow, which is excellent. To make it even more concrete, you could briefly mention the technologies used (e.g., \"using frameworks like LangChain and LangGraph\") to show you are familiar with the modern agentic stack, which adds technical credibility.\n",
      "\n",
      "Regarding your specific questions:\n",
      "\n",
      "- **Did the first draft lie about the candidate's skills and expertise?**\n",
      "No, it does not lie. It strategically frames the IBM experience (\"predictive maintenance tool using a recurrent deep learning model\") using the job description's keywords (\"time series forecasting and anomaly detection\"). This is an accurate and smart way to describe the work, as predictive maintenance is a direct application of these techniques.\n",
      "\n",
      "- **Is all information from the draft relevant to the job offer?**\n",
      "Yes, all information is highly relevant. Each experience mentioned—agentic workflows, time series forecasting at IBM, and end-to-end project ownership during the Ph.D.—maps directly to a key responsibility or requirement listed in the job description.\n",
      "\n",
      "- **Are experiences mentioned in decreasing order of relevance to the job offer?**\n",
      "Not optimally. As mentioned in the first suggestion, the IBM experience with time series forecasting is arguably the most relevant to the team's core function and should be mentioned first. The current order is logical but could be more impactful if reordered.\n",
      "\n",
      "- **In the first paragraph, is the link between the company's mission and the candidate's profile clear?**\n",
      "Yes, the link is clear and effective. It successfully connects the candidate's specialization with the company's mission. The suggestion above aims to make this connection even more unique and compelling.\n",
      "    [STAGE 3] Corrector...\n",
      "351\n",
      "    [STAGE 4] Compressor...\n",
      "last draft wordcount: 254\n"
     ]
    }
   ],
   "source": [
    "model = \"gemini-2.5-pro\"\n",
    "result = write_cover_letter(description, profile, synthesis, resume, cover_letter_template, model)"
   ]
  },
  {
   "cell_type": "code",
   "execution_count": 95,
   "id": "30b653b4",
   "metadata": {},
   "outputs": [
    {
     "data": {
      "text/plain": [
       "\"Dear Sifflet Hiring Team,\\n\\nI am writing to express my enthusiastic interest in the Machine Learning Engineer position.\\n\\nSifflet's mission to build an intelligent data observability platform resonates perfectly with my background in designing autonomous decision-making systems. My experience building systems that act on complex data has prepared me to create the intelligent monitoring and anomaly detection solutions needed to end data quality troubleshooting.\\n\\nMy ability to contribute is demonstrated by my hands-on experience with your required technologies. At IBM, I developed a predictive maintenance tool using time series forecasting and anomaly detection to predict equipment failures—a skill set central to Sifflet's core monitoring capabilities for understanding seasonality and business cycles. More recently, I have been building an agentic workflow using modern frameworks like LangChain, which directly prepares me to develop the generative AI features mentioned in your roadmap. My Ph.D. research complements this, demonstrating my ability to own projects end-to-end by designing and validating optimization algorithms that improved system performance by 33%.\\n\\nI am convinced that my profile, which combines hands-on experience in time series forecasting and modern agentic frameworks with a deep background in system automation, makes me a strong candidate. As a versatile problem-solver with a researcher's rigor, I am eager to apply my skills to build the intelligent and reliable ML features that will contribute to Sifflet's success.\\n\\nThank you for your time and consideration. My CV is attached for your review, and I look forward to the opportunity to discuss my application with you further.\\n\\nBest regards,\\n\\nHugo Vaillaud\""
      ]
     },
     "execution_count": 95,
     "metadata": {},
     "output_type": "execute_result"
    }
   ],
   "source": [
    "result"
   ]
  },
  {
   "cell_type": "code",
   "execution_count": 73,
   "id": "0db57687",
   "metadata": {},
   "outputs": [
    {
     "name": "stdout",
     "output_type": "stream",
     "text": [
      "    [STAGE 1] Generating draft...\n",
      "✅ Chargement du modèle OpenAI : gpt-4o\n",
      "    [STAGE 2] Critic...\n",
      "- The first draft does not lie about the candidate's skills and expertise. It accurately reflects the candidate's background and aligns it with the job requirements.\n",
      "\n",
      "- The information in the draft is mostly relevant to the job offer. However, the mention of the camera calibration project, while showcasing technical skills, could be more directly tied to the specific requirements of the job, such as time series forecasting or data observability.\n",
      "\n",
      "- The experiences are not mentioned in decreasing order of relevance. The Ph.D. research at Thales, which directly relates to optimization and system automation, should be highlighted first as it aligns closely with the job's focus on deploying time series forecasting models and creating intelligent alerting systems. The camera calibration project, while impressive, is less directly related to the core responsibilities of the role and could be mentioned later.\n",
      "    [STAGE 3] Corrector...\n",
      "381\n",
      "last draft wordcount: 381\n",
      "```latex\n",
      "\\documentclass[10pt]{letter}\n",
      "\\usepackage[utf8]{inputenc}\n",
      "\\usepackage{lmodern}\n",
      "\\usepackage[english]{babel}\n",
      "\\newcommand{\\companyname}{Sifflet}\n",
      "\\newcommand{\\jobtitle}{Machine Learning Engineer}\n",
      "\\signature{Hugo Vaillaud}\n",
      "\\address{6 boulevard André Maurois \\\\ Paris 16e, France \\\\ hugovaillaud@gmail.com \\\\+ 33 6 50 98 57 75}\n",
      "\\date{Paris, \\today}\n",
      "\\begin{document}\n",
      "\\begin{letter}{}\n",
      "\\opening{Dear \\companyname Hiring Team,}\n",
      "\n",
      "I am writing to express my enthusiastic interest in the \\jobtitle position. \n",
      "% first part starts here\n",
      "Sifflet's mission to build the world’s best data observability platform aligns seamlessly with my expertise in autonomous decision-making systems and my passion for enhancing data-driven decision-making processes. Your focus on leveraging machine learning to detect data quality issues and improve data flow visualization resonates with my background in developing intelligent systems that optimize complex workflows.\n",
      "% first part ends here\n",
      "\n",
      "% second part starts here\n",
      "My ability to contribute to your mission is demonstrated by my Ph.D. research at Thales, where I developed novel algorithms for resource allocation in radar systems, resulting in a 33\\% performance improvement. This experience honed my skills in optimization and system automation, directly applicable to deploying time series forecasting models and creating intelligent alerting systems at Sifflet.\n",
      "\n",
      "Additionally, my work on developing an agentic workflow using LangChain and LLMs to automate job applications highlights my ability to integrate generative AI workflows, a key aspect of the role at Sifflet. This project underscores my capability to design and implement AI-driven solutions that address real-world challenges.\n",
      "\n",
      "Furthermore, my recent project on camera calibration for autonomous vehicles, where I implemented a complete Computer Vision pipeline using OpenCV and YOLOv8, showcases my proficiency in deploying ML models and handling complex data processing tasks. While this project is less directly related to the core responsibilities at Sifflet, it demonstrates my technical versatility and problem-solving skills.\n",
      "% second part ends here\n",
      "\n",
      "% third part starts here\n",
      "I am convinced that my profile, which combines hands-on experience with modern ML frameworks and a deep theoretical background in optimization and automation, makes me a strong candidate. I am a versatile problem-solver, eager to apply my skills to the development of innovative ML solutions that will contribute to Sifflet's success in revolutionizing data observability.\n",
      "% third part ends here\n",
      "\n",
      "Thank you for your time and consideration. My CV is attached for your review, and I look forward to the opportunity to discuss my application with you further.\n",
      "\\closing{Best regards,}\n",
      "\n",
      "\\end{letter}\n",
      "\n",
      "\\end{document}\n",
      "```\n"
     ]
    }
   ],
   "source": [
    "model = \"gpt-4o\"\n",
    "result = write_cover_letter(description, profile, synthesis, resume, cover_letter_template, model)\n",
    "print(result)"
   ]
  },
  {
   "cell_type": "code",
   "execution_count": null,
   "id": "37e8e6ff",
   "metadata": {},
   "outputs": [],
   "source": []
  }
 ],
 "metadata": {
  "kernelspec": {
   "display_name": "Python 3",
   "language": "python",
   "name": "python3"
  },
  "language_info": {
   "codemirror_mode": {
    "name": "ipython",
    "version": 3
   },
   "file_extension": ".py",
   "mimetype": "text/x-python",
   "name": "python",
   "nbconvert_exporter": "python",
   "pygments_lexer": "ipython3",
   "version": "3.13.5"
  }
 },
 "nbformat": 4,
 "nbformat_minor": 5
}
